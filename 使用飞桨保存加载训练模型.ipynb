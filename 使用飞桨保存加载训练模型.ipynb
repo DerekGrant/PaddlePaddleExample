{
 "cells": [
  {
   "cell_type": "markdown",
   "metadata": {
    "collapsed": false
   },
   "source": [
    "加载必要的例库"
   ]
  },
  {
   "cell_type": "code",
   "execution_count": 1,
   "metadata": {
    "collapsed": false
   },
   "outputs": [],
   "source": [
    "import paddle.fluid as fluid\n",
    "import numpy as np\n",
    "import paddle"
   ]
  },
  {
   "cell_type": "markdown",
   "metadata": {
    "collapsed": false
   },
   "source": [
    "定义模型结构，与之前训练是用的模型相同。[参考训练教程](hhttps://aistudio.baidu.com/aistudio/projectdetail/628079)"
   ]
  },
  {
   "cell_type": "code",
   "execution_count": 2,
   "metadata": {
    "collapsed": false
   },
   "outputs": [],
   "source": [
    "import paddle.fluid as fluid\n",
    "from paddle.fluid.dygraph.nn import Conv2D, Pool2D, Linear\n",
    "\n",
    "# 定义 CNN 网络结构\n",
    "class CNN(fluid.dygraph.Layer):\n",
    "    def __init__(self, num_classes=1):\n",
    "        super(CNN, self).__init__()\n",
    "\n",
    "        # 创建卷积和池化层块，每个卷积层使用Sigmoid激活函数，后面跟着一个2x2的池化\n",
    "        self.conv1 = Conv2D(num_channels=1, num_filters=32, filter_size=3, act='sigmoid')\n",
    "        self.pool1 = Pool2D(pool_size=2, pool_stride=1, pool_type='max')\n",
    "        self.conv2 = Conv2D(num_channels=32, num_filters=64, filter_size=3, act='sigmoid')\n",
    "        self.pool2 = Pool2D(pool_size=2, pool_stride=1, pool_type='max')\n",
    "        self.fc1 = Linear(input_dim=30976, output_dim=num_classes)\n",
    "\n",
    "    # 网络的前向计算过程\n",
    "    def forward(self, x):\n",
    "        x = self.conv1(x)\n",
    "        x = self.pool1(x)\n",
    "        x = self.conv2(x)\n",
    "        x = self.pool2(x)\n",
    "        x = fluid.layers.reshape(x, [x.shape[0], -1])\n",
    "        x = self.fc1(x)\n",
    "        return x\n",
    "\n"
   ]
  },
  {
   "cell_type": "markdown",
   "metadata": {
    "collapsed": false
   },
   "source": [
    "定义测试函数"
   ]
  },
  {
   "cell_type": "code",
   "execution_count": 3,
   "metadata": {
    "collapsed": false
   },
   "outputs": [],
   "source": [
    "def test(model):\n",
    "    model.eval()\n",
    "    valid_loader = paddle.batch(paddle.dataset.mnist.test(), batch_size=10)\n",
    "    accuracies = []\n",
    "    losses = []\n",
    "    for batch_id, data in enumerate(valid_loader()):\n",
    "        # 调整输入数据形状和类型\n",
    "        x_data = np.array([item[0] for item in data], dtype='float32').reshape(-1, 1, 28, 28)\n",
    "        y_data = np.array([item[1] for item in data], dtype='int64').reshape(-1, 1)\n",
    "        # 将numpy.ndarray转化成Tensor\n",
    "        img = fluid.dygraph.to_variable(x_data)\n",
    "        label = fluid.dygraph.to_variable(y_data)\n",
    "        # 计算模型输出\n",
    "        logits = model(img)\n",
    "        pred = fluid.layers.softmax(logits)\n",
    "        # 计算损失函数\n",
    "        loss = fluid.layers.softmax_with_cross_entropy(logits, label)\n",
    "        acc = fluid.layers.accuracy(pred, label)\n",
    "        accuracies.append(acc.numpy())\n",
    "        losses.append(loss.numpy())\n",
    "    print(\"[validation] accuracy/loss: {}/{}\".format(np.mean(accuracies), np.mean(losses)))"
   ]
  },
  {
   "cell_type": "markdown",
   "metadata": {
    "collapsed": false
   },
   "source": [
    "初始化模型\n",
    ">model = CNN(num_classes=10)\n",
    "\n",
    "加载参数\n",
    "> para_state_dict, opti_state_dict = fluid.load_dygraph( \"mnist\")\n",
    "> model.set_dict(para_state_dict)\n",
    "\n",
    "测试\n",
    "> test(model)"
   ]
  },
  {
   "cell_type": "code",
   "execution_count": 4,
   "metadata": {
    "collapsed": false
   },
   "outputs": [
    {
     "name": "stdout",
     "output_type": "stream",
     "text": [
      "[validation] accuracy/loss: 0.9817999005317688/0.05483948811888695\n"
     ]
    }
   ],
   "source": [
    "if __name__ == '__main__':\n",
    "    # 创建模型\n",
    "    with fluid.dygraph.guard():\n",
    "        model = CNN(num_classes=10)\n",
    "        para_state_dict, opti_state_dict = fluid.load_dygraph( \"mnist\")\n",
    "        model.set_dict(para_state_dict)\n",
    "        #启动训练过程\n",
    "        test(model)"
   ]
  }
 ],
 "metadata": {
  "kernelspec": {
   "display_name": "PaddlePaddle 1.8.0 (Python 3.5)",
   "language": "python",
   "name": "py35-paddle1.2.0"
  },
  "language_info": {
   "codemirror_mode": {
    "name": "ipython",
    "version": 3
   },
   "file_extension": ".py",
   "mimetype": "text/x-python",
   "name": "python",
   "nbconvert_exporter": "python",
   "pygments_lexer": "ipython3",
   "version": "3.7.4"
  }
 },
 "nbformat": 4,
 "nbformat_minor": 1
}
